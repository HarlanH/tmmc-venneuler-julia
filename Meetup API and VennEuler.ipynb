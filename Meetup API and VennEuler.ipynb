{
 "metadata": {
  "language": "Julia",
  "name": "",
  "signature": "sha256:a5adbbf9b925b1269230aff75d28e3e7b16c161c9922af00b62da86c7b89ee37"
 },
 "nbformat": 3,
 "nbformat_minor": 0,
 "worksheets": [
  {
   "cells": [
    {
     "cell_type": "markdown",
     "metadata": {},
     "source": [
      "# Venn diagrams, Euler Diagrams, Meetups and VennEuler.jl\n",
      "\n",
      "** Harlan Harris **\n",
      "\n",
      "** TrackMaven Monthly Challenge ** \n",
      "\n",
      "** January 19, 2015 **\n",
      "\n",
      "## Table of Contents:\n",
      "\n",
      "1. Venn and Euler Diagrams\n",
      "2. Problem: _What does the overlap of Meetup members look like?_\n",
      "3. Solution: VennEuler.jl\n",
      "\n"
     ]
    },
    {
     "cell_type": "markdown",
     "metadata": {},
     "source": [
      "---------------"
     ]
    },
    {
     "cell_type": "markdown",
     "metadata": {},
     "source": [
      "![Pancakes](http://41.media.tumblr.com/tumblr_m0mjzz9c721qcu42bo1_500.jpg)\n",
      "\n",
      "![Santa](http://33.media.tumblr.com/tumblr_lvr2wikgWD1qhkgm0o1_400.gif)\n",
      "\n",
      "**Venn Diagrams** show, conceptually, how sets or ideas overlap.\n",
      "\n",
      "* Drives intuition; clarifies framework.\n",
      "* Show all possible combinations; can shade to show observed overlaps\n",
      "* Size usually equal; if different, qualitative. "
     ]
    },
    {
     "cell_type": "markdown",
     "metadata": {},
     "source": [
      "-------"
     ]
    },
    {
     "cell_type": "markdown",
     "metadata": {},
     "source": [
      "![EulerVenn](https://mdmhirogoto.files.wordpress.com/2013/03/chapter-5-2.png)\n",
      "\n",
      "![Britain](2000px-British_Isles_Euler_diagram.svg.png)\n",
      "\n",
      "**Euler Diagrams** only show _observed_ relationships.\n",
      "\n",
      "* Often used with 4+ sets.\n",
      "* Size usually suggests set size."
     ]
    },
    {
     "cell_type": "markdown",
     "metadata": {},
     "source": [
      "---------\n",
      "\n",
      "![Simple](http://i.stack.imgur.com/5eJO0.png)\n",
      "\n",
      "![Cells](http://fouryears.eu/wp-content/uploads/2012/10/Rplot02-300x245.png)\n",
      "\n",
      "**Area-proportional Euler Diagrams** show _approximately_ show relative size\n",
      "\n",
      "* Sometimes used in scientific communication.\n",
      "* Not always just cirles/ovals\n",
      "\n",
      "_Degrees-of-freedom issue_: \n",
      "\n",
      "With 3 sets, power set is 2n=8, but only have 3\u22c5(n\u22121)=6 degrees of freedom.\n",
      "\n",
      "![Impossible](Impossible Area-Proportional Euler.svg)\n",
      "\n",
      "**Optimization Problem**:\n",
      "\n",
      "* Determine _location_ and _size_ (and perhaps _orientation_) of shapes,\n",
      "* to _minimize error_ (normalized set overlap vs normalized \"pixel\" overlap).\n",
      "\n",
      "\n"
     ]
    },
    {
     "cell_type": "markdown",
     "metadata": {},
     "source": [
      "-----\n",
      "\n",
      "## Prior Work\n",
      "\n",
      "[Wilkinson (2012)](http://www.cs.uic.edu/~wilkinson/Publications/venneuler.pdf) -- R/Java app for optimizing circles\n",
      "\n",
      "* Efficient brute-force approach, but minimal customization possible\n"
     ]
    },
    {
     "cell_type": "markdown",
     "metadata": {},
     "source": [
      "---------\n",
      "\n",
      "## VennEuler.jl\n",
      "\n",
      "[Julia](http://julialang.org/) package for drawing area-proportional Euler diagrams\n",
      "\n",
      "[https://github.com/HarlanH/VennEuler.jl](https://github.com/HarlanH/VennEuler.jl)\n",
      "\n",
      "**Features**:\n",
      "\n",
      "* circles, triangles, squares, rectangles (can be per-set)\n",
      "* optionally lock parameters\n",
      "\n",
      "**Limitations**:\n",
      "\n",
      "* hacky API\n",
      "* needs more shapes!\n",
      "* lots of room for performance improvements\n",
      "* finicky hyperparameters for optimization"
     ]
    },
    {
     "cell_type": "heading",
     "level": 3,
     "metadata": {},
     "source": [
      "Demo!"
     ]
    },
    {
     "cell_type": "code",
     "collapsed": false,
     "input": [
      "# packages to get JSON data from an HTTP API\n",
      "using Requests\n",
      "using JSON"
     ],
     "language": "python",
     "metadata": {},
     "outputs": [],
     "prompt_number": 3
    },
    {
     "cell_type": "code",
     "collapsed": false,
     "input": [
      "# no, I'm not providing my Meetup API key -- get your own!\n",
      "apikey = open(readchomp, \"apikey\");\n",
      "apikey[1:5]\n"
     ],
     "language": "python",
     "metadata": {},
     "outputs": [
      {
       "metadata": {},
       "output_type": "pyout",
       "prompt_number": 4,
       "text": [
        "\"732e2\""
       ]
      }
     ],
     "prompt_number": 4
    },
    {
     "cell_type": "code",
     "collapsed": false,
     "input": [
      "# ask the Meetup API for deets about a group\n",
      "function getGroupInfo(apikey, urlname) \n",
      "    request = \"https://api.meetup.com/2/groups?key=$apikey&sign=true&group_urlname=$urlname\"\n",
      "    ret = get(request)\n",
      "    dat = JSON.parse(ret.data)\n",
      "    dat[\"results\"][1]\n",
      "end\n",
      "gi = getGroupInfo(apikey, \"TrackMaven-Monthly-Challenge\")"
     ],
     "language": "python",
     "metadata": {},
     "outputs": [
      {
       "metadata": {},
       "output_type": "pyout",
       "prompt_number": 5,
       "text": [
        "Dict{String,Any} with 21 entries:\n",
        "  \"lat\"         => 38.90999984741211\n",
        "  \"visibility\"  => \"public\"\n",
        "  \"who\"         => \"'); DROP TABLE Members;--\"\n",
        "  \"utc_offset\"  => -18000000\n",
        "  \"rating\"      => 4.84\n",
        "  \"link\"        => \"http://www.meetup.com/TrackMaven-Monthly-Challenge/\"\n",
        "  \"timezone\"    => \"US/Eastern\"\n",
        "  \"lon\"         => -77.04000091552734\n",
        "  \"state\"       => \"DC\"\n",
        "  \"organizer\"   => [\"name\"=>\"TrackMaven\",\"member_id\"=>176927822]\n",
        "  \"name\"        => \"Monthly Challenge\"\n",
        "  \"urlname\"     => \"TrackMaven-Monthly-Challenge\"\n",
        "  \"id\"          => 17538822\n",
        "  \"created\"     => 1412977454000\n",
        "  \"topics\"      => {[\"name\"=>\"Open Source\",\"urlkey\"=>\"opensource\",\"id\"=>563],[\"\u2026\n",
        "  \"description\" => \"<p>TrackMaven's Monthly Challenge is a chance to experiment\u2026\n",
        "  \"country\"     => \"US\"\n",
        "  \"join_mode\"   => \"open\"\n",
        "  \"members\"     => 192\n",
        "  \"category\"    => [\"shortname\"=>\"tech\",\"name\"=>\"tech\",\"id\"=>34]\n",
        "  \"city\"        => \"Washington\""
       ]
      }
     ],
     "prompt_number": 5
    },
    {
     "cell_type": "code",
     "collapsed": false,
     "input": [
      "# ask the Meetup API for Member IDs from a group\n",
      "# requires chunked requests (a better way would be to use the \"next\" field in the response)\n",
      "function getMembers(apikey, group_id, memberCt; verbose=true)\n",
      "    chunksize = 200 \n",
      "    memberIds = Array(Int,0)\n",
      "    if verbose print(group_id) end\n",
      "    for page in 0:ifloor(memberCt/chunksize)\n",
      "        request = \"https://api.meetup.com/2/members?key=$apikey&sign=true&group_id=$group_id&page=$chunksize&offset=$page&only=id\"\n",
      "        ret = get(request)\n",
      "        dat = JSON.parse(ret.data)\n",
      "        if verbose print('.') end\n",
      "        for x in dat[\"results\"]\n",
      "            push!(memberIds, x[\"id\"])\n",
      "        end\n",
      "    end\n",
      "    if verbose println() end\n",
      "    memberIds\n",
      "end\n",
      "member_ids = getMembers(apikey, gi[\"id\"], gi[\"members\"])\n",
      "member_ids[1:20]"
     ],
     "language": "python",
     "metadata": {},
     "outputs": [
      {
       "output_type": "stream",
       "stream": "stdout",
       "text": [
        "17538822"
       ]
      },
      {
       "output_type": "stream",
       "stream": "stdout",
       "text": [
        ".\n"
       ]
      },
      {
       "metadata": {},
       "output_type": "pyout",
       "prompt_number": 6,
       "text": [
        "20-element Array{Int64,1}:\n",
        " 183610329\n",
        "  25039192\n",
        " 178081672\n",
        " 183308791\n",
        " 182515126\n",
        " 159890452\n",
        " 183630308\n",
        " 182676997\n",
        " 128539712\n",
        " 162010302\n",
        " 122890472\n",
        "   3823597\n",
        "  43552892\n",
        " 128150592\n",
        "   1494356\n",
        "  86895462\n",
        "   3878583\n",
        "   6171938\n",
        " 147919352\n",
        "  12004411"
       ]
      }
     ],
     "prompt_number": 6
    },
    {
     "cell_type": "code",
     "collapsed": false,
     "input": [
      "# great, seems to work, now get all the members for relevant Meetups, storing as a dict of sets\n",
      "group_names = [\"stats-prog-dc\", \"Data-Visualization-DC\",\n",
      "    \"DC-Hack-and-Tell\", \"TrackMaven-Monthly-Challenge\", \"hack-edu\"]\n",
      "group_members_struct = Dict()\n",
      "for grname in group_names\n",
      "    gi = getGroupInfo(apikey, grname)\n",
      "    group_members_struct[grname] = \n",
      "        Set(getMembers(apikey, gi[\"id\"], gi[\"members\"])...)\n",
      "end\n",
      "group_members_struct\n",
      "# takes a couple minutes -- jump to the end!"
     ],
     "language": "python",
     "metadata": {},
     "outputs": [
      {
       "output_type": "stream",
       "stream": "stdout",
       "text": [
        "1503964"
       ]
      },
      {
       "output_type": "stream",
       "stream": "stdout",
       "text": [
        "."
       ]
      },
      {
       "output_type": "stream",
       "stream": "stdout",
       "text": [
        "."
       ]
      },
      {
       "output_type": "stream",
       "stream": "stdout",
       "text": [
        "."
       ]
      },
      {
       "output_type": "stream",
       "stream": "stdout",
       "text": [
        "."
       ]
      },
      {
       "output_type": "stream",
       "stream": "stdout",
       "text": [
        "."
       ]
      },
      {
       "output_type": "stream",
       "stream": "stdout",
       "text": [
        "."
       ]
      },
      {
       "output_type": "stream",
       "stream": "stdout",
       "text": [
        "."
       ]
      },
      {
       "output_type": "stream",
       "stream": "stdout",
       "text": [
        "."
       ]
      },
      {
       "output_type": "stream",
       "stream": "stdout",
       "text": [
        "."
       ]
      },
      {
       "output_type": "stream",
       "stream": "stdout",
       "text": [
        "."
       ]
      },
      {
       "output_type": "stream",
       "stream": "stdout",
       "text": [
        "."
       ]
      },
      {
       "output_type": "stream",
       "stream": "stdout",
       "text": [
        ".\n"
       ]
      },
      {
       "output_type": "stream",
       "stream": "stdout",
       "text": [
        "6957082"
       ]
      },
      {
       "output_type": "stream",
       "stream": "stdout",
       "text": [
        "."
       ]
      },
      {
       "output_type": "stream",
       "stream": "stdout",
       "text": [
        "."
       ]
      },
      {
       "output_type": "stream",
       "stream": "stdout",
       "text": [
        "."
       ]
      },
      {
       "output_type": "stream",
       "stream": "stdout",
       "text": [
        "."
       ]
      },
      {
       "output_type": "stream",
       "stream": "stdout",
       "text": [
        "."
       ]
      },
      {
       "output_type": "stream",
       "stream": "stdout",
       "text": [
        "."
       ]
      },
      {
       "output_type": "stream",
       "stream": "stdout",
       "text": [
        "."
       ]
      },
      {
       "output_type": "stream",
       "stream": "stdout",
       "text": [
        "."
       ]
      },
      {
       "output_type": "stream",
       "stream": "stdout",
       "text": [
        "."
       ]
      },
      {
       "output_type": "stream",
       "stream": "stdout",
       "text": [
        "."
       ]
      },
      {
       "output_type": "stream",
       "stream": "stdout",
       "text": [
        "."
       ]
      },
      {
       "output_type": "stream",
       "stream": "stdout",
       "text": [
        ".\n"
       ]
      },
      {
       "output_type": "stream",
       "stream": "stdout",
       "text": [
        "7361532"
       ]
      },
      {
       "output_type": "stream",
       "stream": "stdout",
       "text": [
        "."
       ]
      },
      {
       "output_type": "stream",
       "stream": "stdout",
       "text": [
        "."
       ]
      },
      {
       "output_type": "stream",
       "stream": "stdout",
       "text": [
        ".\n"
       ]
      },
      {
       "output_type": "stream",
       "stream": "stdout",
       "text": [
        "17538822"
       ]
      },
      {
       "output_type": "stream",
       "stream": "stdout",
       "text": [
        ".\n"
       ]
      },
      {
       "output_type": "stream",
       "stream": "stdout",
       "text": [
        "1800681"
       ]
      },
      {
       "output_type": "stream",
       "stream": "stdout",
       "text": [
        "."
       ]
      },
      {
       "output_type": "stream",
       "stream": "stdout",
       "text": [
        ".\n"
       ]
      },
      {
       "metadata": {},
       "output_type": "pyout",
       "prompt_number": 7,
       "text": [
        "Dict{Any,Any} with 5 entries:\n",
        "  \"TrackMaven-Monthly-Cha\u2026 => Set{Int64}({179185442,126598012,71076272,6171938,\u2026\n",
        "  \"hack-edu\"               => Set{Int64}({3125661,25940092,86478972,54136702,72\u2026\n",
        "  \"DC-Hack-and-Tell\"       => Set{Int64}({8294317,123939182,50878822,182855518,\u2026\n",
        "  \"Data-Visualization-DC\"  => Set{Int64}({87735072,152363432,143026012,12443103\u2026\n",
        "  \"stats-prog-dc\"          => Set{Int64}({117652872,108337692,152363432,1611067\u2026"
       ]
      }
     ],
     "prompt_number": 7
    },
    {
     "cell_type": "code",
     "collapsed": false,
     "input": [
      "# then convert that dict of sets to a bool matrix\n",
      "everyone = union([v for (k,v) in group_members_struct]...)\n",
      "memb_group = [in(memb, group_members_struct[group]) \n",
      "                for memb in everyone, group in group_names]"
     ],
     "language": "python",
     "metadata": {},
     "outputs": [
      {
       "metadata": {},
       "output_type": "pyout",
       "prompt_number": 8,
       "text": [
        "4508x5 Array{Any,2}:\n",
        " false  false  false  false   true\n",
        " false   true  false  false  false\n",
        " false   true  false  false  false\n",
        "  true  false  false  false  false\n",
        " false   true  false  false  false\n",
        "  true  false  false  false  false\n",
        " false   true  false  false  false\n",
        " false   true  false  false  false\n",
        " false  false  false  false   true\n",
        " false  false   true  false  false\n",
        "  true  false  false  false  false\n",
        "  true  false  false  false  false\n",
        " false   true  false  false  false\n",
        "     \u22ee                            \n",
        "  true  false  false  false  false\n",
        " false  false  false  false   true\n",
        "  true   true  false  false  false\n",
        " false   true  false  false  false\n",
        " false   true  false  false  false\n",
        " false   true  false  false  false\n",
        " false   true  false  false  false\n",
        "  true  false  false  false  false\n",
        " false  false   true  false  false\n",
        "  true  false  false  false  false\n",
        "  true  false  false  false  false\n",
        " false  false  false   true  false"
       ]
      }
     ],
     "prompt_number": 8
    },
    {
     "cell_type": "code",
     "collapsed": false,
     "input": [
      "# and now we're good to make a VennEuler diagram!\n",
      "using VennEuler"
     ],
     "language": "python",
     "metadata": {},
     "outputs": [],
     "prompt_number": 9
    },
    {
     "cell_type": "code",
     "collapsed": false,
     "input": [
      "eo = make_euler_object(group_names, \n",
      "    memb_group, \n",
      "    EulerSpec(:circle),                       # rectangles > circles!\n",
      "    sizesum=.3)                                  # scaling in unit square\n",
      "\n",
      "(minf,minx,ret) = optimize_iteratively(          # greedy meta-optimization algorithm\n",
      "    eo,                                          # problem we're trying to solve\n",
      "    random_state(eo),                            # where to start\n",
      "    ftol=-1, xtol=0.0025, maxtime=5, pop=100)    # quick 'n dirty\n",
      "\n",
      "(minf,minx,ret) = optimize(eo,                   # global optimization\n",
      "    minx,                                        # start where we left off\n",
      "    ftol=.00005, xtol=0.001, maxtime=40, pop=250) # more horsepower this time...\n",
      "\n",
      "println(\"FINALLY:\\ngot $minf at $minx (returned $ret)\")\n"
     ],
     "language": "python",
     "metadata": {},
     "outputs": [
      {
       "output_type": "stream",
       "stream": "stdout",
       "text": [
        "got 0.0011773963420000366 at [0.650209546980835,0.29412465794848536,0.4143890776568645,0.24038180208588278,0.635374802412045,0.7066282263498384,0.70421457527918,0.6940634608142564,0.7530034338352188,0.0778524675577283] (returned XTOL_REACHED)\n"
       ]
      },
      {
       "output_type": "stream",
       "stream": "stdout",
       "text": [
        "got 0.001097581516628944 at [0.650209546980835,0.29412465794848536,0.4911071019432083,0.47711157718278674,0.635374802412045,0.7066282263498384,0.70421457527918,0.6940634608142564,0.7530034338352188,0.0778524675577283] (returned XTOL_REACHED)"
       ]
      },
      {
       "output_type": "stream",
       "stream": "stdout",
       "text": [
        "\n",
        "got 0.00047159343626657915 at [0.650209546980835,0.29412465794848536,0.4911071019432083,0.47711157718278674,0.7240794617536277,0.5969255219773719,0.70421457527918,0.6940634608142564,0.7530034338352188,0.0778524675577283] (returned XTOL_REACHED)"
       ]
      },
      {
       "output_type": "stream",
       "stream": "stdout",
       "text": [
        "\n",
        "got 0.0004316348260640822 at [0.650209546980835,0.29412465794848536,0.4911071019432083,0.47711157718278674,0.7240794617536277,0.5969255219773719,0.70421457527918,0.6940634608142564,0.8061775925103083,0.4872497840819942] (returned XTOL_REACHED)"
       ]
      },
      {
       "output_type": "stream",
       "stream": "stdout",
       "text": [
        "\n",
        "got 0.00042398528007448605 at [0.650209546980835,0.29412465794848536,0.4911071019432083,0.47711157718278674,0.7240794617536277,0.5969255219773719,0.7315248381279312,0.6995983117612904,0.8061775925103083,0.4872497840819942] (returned XTOL_REACHED)"
       ]
      },
      {
       "output_type": "stream",
       "stream": "stdout",
       "text": [
        "\n",
        "FINALLY:\n",
        "got 0.00021240823980772351 at [0.591641983359685,0.31187005506717463,0.4377781091518288,0.4964465306252557,0.6830493211435485,0.5411796209502959,0.7680725352146964,0.6235625407053891,0.8555626166057588,0.5903671760831991] (returned FTOL_REACHED)"
       ]
      },
      {
       "output_type": "stream",
       "stream": "stdout",
       "text": [
        "\n"
       ]
      }
     ],
     "prompt_number": 14
    },
    {
     "cell_type": "code",
     "collapsed": false,
     "input": [
      "render(\"circles1.svg\", eo, minx)"
     ],
     "language": "python",
     "metadata": {},
     "outputs": [],
     "prompt_number": 15
    },
    {
     "cell_type": "markdown",
     "metadata": {},
     "source": [
      "![Some of my Favorite Meetups](circles1.svg)"
     ]
    },
    {
     "cell_type": "code",
     "collapsed": false,
     "input": [
      "# fancier shapes\n",
      "eo = make_euler_object(group_names, \n",
      "    memb_group, \n",
      "    [EulerSpec(:circle), EulerSpec(:square, [.5, .5], [0, 0]), EulerSpec(:triangle),\n",
      "    EulerSpec(:rectangle), EulerSpec(:rectangle)],\n",
      "    sizesum=.3)                                  # scaling in unit square\n",
      "\n",
      "(minf,minx,ret) = optimize_iteratively(          # greedy meta-optimization algorithm\n",
      "    eo,                                          # problem we're trying to solve\n",
      "    random_state(eo),                            # where to start\n",
      "    ftol=-1, xtol=0.0025, maxtime=5, pop=100)    # quick 'n dirty\n",
      "\n",
      "(minf,minx,ret) = optimize_iteratively(          # greedy meta-optimization algorithm\n",
      "    eo,                                          # problem we're trying to solve\n",
      "    minx,                            # start where we left off\n",
      "    ftol=-1, xtol=0.0025, maxtime=5, pop=100)    # quick 'n dirty\n",
      "\n",
      "(minf,minx,ret) = optimize(eo,                   # global optimization\n",
      "    minx,                                        # start where we left off\n",
      "    ftol=.000005, xtol=0.001, maxtime=40, pop=300) # more horsepower this time...\n",
      "\n",
      "println(\"FINALLY:\\ngot $minf at $minx (returned $ret)\")"
     ],
     "language": "python",
     "metadata": {},
     "outputs": [
      {
       "output_type": "stream",
       "stream": "stdout",
       "text": [
        "got 0.004944795751371201 at [0.45811905420160093,0.7319118208388237,0.5,0.5,0.7913087467793177,0.27038630558537546,0.785956094131496,0.17077318174769082,0.9363293380463487,0.6164767580160874,0.6003365658444567,0.758179211959874] (returned XTOL_REACHED)\n"
       ]
      },
      {
       "output_type": "stream",
       "stream": "stdout",
       "text": [
        "got 0.004944795751371201 at [0.45811905420160093,0.7319118208388237,0.5,0.5,0.7913087467793177,0.27038630558537546,0.785956094131496,0.17077318174769082,0.9363293380463487,0.6164767580160874,0.6003365658444567,0.758179211959874] (returned SUCCESS)\n",
        "got 0.004155674367803061 at [0.45811905420160093,0.7319118208388237,0.5,0.5,0.6828625642147557,0.6531516839657346,0.785956094131496,0.17077318174769082,0.9363293380463487,0.6164767580160874,0.6003365658444567,0.758179211959874] (returned MAXTIME_REACHED)"
       ]
      },
      {
       "output_type": "stream",
       "stream": "stdout",
       "text": [
        "\n",
        "got 0.0010821106786490355 at [0.45811905420160093,0.7319118208388237,0.5,0.5,0.6828625642147557,0.6531516839657346,0.785956094131496,0.17077318174769082,0.9363293380463487,0.8844981230792499,0.19145739927285846,0.0] (returned MAXTIME_REACHED)"
       ]
      },
      {
       "output_type": "stream",
       "stream": "stdout",
       "text": [
        "\n",
        "got 0.0009946304264307143 at [0.45811905420160093,0.7319118208388237,0.5,0.5,0.6828625642147557,0.6531516839657346,0.8971197589856064,0.25464836519206296,0.6921985881610219,0.8844981230792499,0.19145739927285846,0.0] (returned MAXTIME_REACHED)"
       ]
      },
      {
       "output_type": "stream",
       "stream": "stdout",
       "text": [
        "\n",
        "got 0.00046184719280331426 at [0.7297087716847865,0.42072931401159486,0.5,0.5,0.6828625642147557,0.6531516839657346,0.8971197589856064,0.25464836519206296,0.6921985881610219,0.8844981230792499,0.19145739927285846,0.0] (returned XTOL_REACHED)"
       ]
      },
      {
       "output_type": "stream",
       "stream": "stdout",
       "text": [
        "\n",
        "got 0.00046184719280331426 at [0.7297087716847865,0.42072931401159486,0.5,0.5,0.6828625642147557,0.6531516839657346,0.8971197589856064,0.25464836519206296,0.6921985881610219,0.8844981230792499,0.19145739927285846,0.0] (returned SUCCESS)\n",
        "got 0.00024860527382811323 at [0.7297087716847865,0.42072931401159486,0.5,0.5,0.5248214456200593,0.27226659341461446,0.8971197589856064,0.25464836519206296,0.6921985881610219,0.8844981230792499,0.19145739927285846,0.0] (returned XTOL_REACHED)"
       ]
      },
      {
       "output_type": "stream",
       "stream": "stdout",
       "text": [
        "\n",
        "got 0.00019289573265385284 at [0.7297087716847865,0.42072931401159486,0.5,0.5,0.5248214456200593,0.27226659341461446,0.8971197589856064,0.25464836519206296,0.6921985881610219,0.8844981230792497,0.11916031160554405,0.8313982877824047] (returned MAXTIME_REACHED)"
       ]
      },
      {
       "output_type": "stream",
       "stream": "stdout",
       "text": [
        "\n",
        "got 0.00019142319215200115 at [0.7297087716847865,0.42072931401159486,0.5,0.5,0.5248214456200593,0.27226659341461446,0.8971197589856064,0.2495888886840622,0.6883837215365771,0.8844981230792497,0.11916031160554405,0.8313982877824047] (returned MAXTIME_REACHED)"
       ]
      },
      {
       "output_type": "stream",
       "stream": "stdout",
       "text": [
        "\n",
        "FINALLY:\n",
        "got 0.00018900585033865315 at [0.7298741112572973,0.4222905100647036,0.5,0.5,0.5269262468305396,0.2725481412912217,0.8971197589856064,0.25046916076055137,0.688481711131562,0.8844981230792499,0.11923493328730325,0.8283348185148465] (returned FTOL_REACHED)"
       ]
      },
      {
       "output_type": "stream",
       "stream": "stdout",
       "text": [
        "\n"
       ]
      }
     ],
     "prompt_number": 24
    },
    {
     "cell_type": "code",
     "collapsed": false,
     "input": [
      "render(\"multi4.svg\", eo, minx)"
     ],
     "language": "python",
     "metadata": {},
     "outputs": [],
     "prompt_number": 25
    },
    {
     "cell_type": "markdown",
     "metadata": {},
     "source": [
      "![Some of my Favorite Meetups](multi4.svg)"
     ]
    },
    {
     "cell_type": "markdown",
     "metadata": {},
     "source": [
      "---------------\n",
      "\n",
      "## References:\n",
      "\n",
      "https://github.com/HarlanH/spdc-venneuler-julia\n",
      "\n",
      "https://github.com/HarlanH/VennEuler.jl\n",
      "\n",
      "http://www.cs.uic.edu/~wilkinson/Publications/venneuler.pdf\n"
     ]
    },
    {
     "cell_type": "heading",
     "level": 1,
     "metadata": {},
     "source": [
      "Thanks!"
     ]
    }
   ],
   "metadata": {}
  }
 ]
}